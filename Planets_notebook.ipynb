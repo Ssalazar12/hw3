{
 "cells": [
  {
   "cell_type": "code",
   "execution_count": 102,
   "metadata": {},
   "outputs": [],
   "source": [
    "%matplotlib inline\n",
    "import numpy as np\n",
    "import matplotlib.pyplot as plt\n",
    "from mpl_toolkits.mplot3d import Axes3D\n",
    "\n",
    "#prueba solucionar las ecuaciones de movimiento para un planeta girando al rededor de una estrella estatica\n",
    "N=1000 #puntos a evaluar\n",
    "l=20 #lado del area\n",
    "dt=0.0005\n",
    "G=2\n",
    "\n",
    "\n",
    "M=4*(1000)\n",
    "X0= 10.0\n",
    "Y0= 10.0\n",
    "\n",
    "m=10.0\n",
    "\n"
   ]
  },
  {
   "cell_type": "code",
   "execution_count": 98,
   "metadata": {},
   "outputs": [
    {
     "data": {
      "text/plain": [
       "[<matplotlib.lines.Line2D at 0x11181a790>]"
      ]
     },
     "execution_count": 98,
     "metadata": {},
     "output_type": "execute_result"
    },
    {
     "data": {
      "image/png": "[encoded data removed]",
      "text/plain": [
       "<matplotlib.figure.Figure at 0x1129c2910>"
      ]
     },
     "metadata": {},
     "output_type": "display_data"
    }
   ],
   "source": [
    "def Fx(xi,yi,xj,yj):\n",
    "    r=np.sqrt((xj-xi)**2 + (yj-yi)**2)\n",
    "    force=(M/(r**3))*(xj-xi) \n",
    "    return force\n",
    "\n",
    "def Fy(xi,yi,xj,yj):\n",
    "    r=np.sqrt((xj-xi)**2+(yj-yi)**2)\n",
    "    force=(M/(r**3))*(yj-yi) \n",
    "    return force\n",
    "\n",
    "def euler():\n",
    "    x=np.zeros(N)    \n",
    "    y=np.zeros(N)   \n",
    "    #t=np.zeros(N)\n",
    "    vx=np.zeros(N)\n",
    "    vy=np.zeros(N)\n",
    "    #condiciones iniciales\n",
    "    x[0]=10.0\n",
    "    y[0]=15.0\n",
    "    vx[0]=10.0\n",
    "    vy[0]=0.0\n",
    "    for i in range(0,len(t)-1):\n",
    "        #t[i+1]=t[i]+dt\n",
    "        vx[i+1]= vx[i] + G*dt* Fx(x[i],y[i],X0,Y0)\n",
    "        vy[i+1]= vy[i] + G*dt* Fy(x[i],y[i],X0,Y0)\n",
    "    \n",
    "        x[i+1]= x[i]+ dt*vx[i+1]\n",
    "        y[i+1]= y[i]+ dt*vy[i+1]\n",
    "        \n",
    "    return x,y\n",
    "        \n",
    "        \n",
    "solx ,soly = euler()\n",
    "\n",
    "plt.scatter(X0,Y0)\n",
    "plt.plot(solx, soly)\n",
    "    "
   ]
  },
  {
   "cell_type": "code",
   "execution_count": 165,
   "metadata": {},
   "outputs": [
    {
     "data": {
      "text/plain": [
       "[<matplotlib.lines.Line2D at 0x117336a50>]"
      ]
     },
     "execution_count": 165,
     "metadata": {},
     "output_type": "execute_result"
    },
    {
     "data": {
      "image/png": "[encoded data removed]",
      "text/plain": [
       "<matplotlib.figure.Figure at 0x11650d310>"
      ]
     },
     "metadata": {},
     "output_type": "display_data"
    }
   ],
   "source": [
    "datax=np.genfromtxt('resultadosx.csv')\n",
    "datay=np.genfromtxt('resultadosy.csv')\n",
    "dataz=np.genfromtxt('resultadosz.csv')\n",
    "\n",
    "ans=np.sqrt(datax[:,0]**2+datay[:,0]**2)\n",
    "\n",
    "fig = plt.figure()\n",
    "ax = fig.add_subplot(111, projection='3d')\n",
    "plt.ylim(-np.max(datay)/2,np.max(datay)/2)\n",
    "plt.xlim(-np.max(datax)/2,np.max(datax)/2)\n",
    "#ax.set_zlim(-np.max(dataz),np.max(dataz))\n",
    "\n",
    "ax.plot(datax[:,0], datay[:,0], dataz[:,0])\n",
    "ax.plot(datax[:,1], datay[:,1], dataz[:,1])\n",
    "ax.plot(datax[:,2], datay[:,2], dataz[:,2])\n",
    "ax.plot(datax[:,3], datay[:,3], dataz[:,3])\n",
    "ax.plot(datax[:,9], datay[:,9], dataz[:,9])\n",
    "\n",
    "\n",
    "\n",
    "\n",
    "\n",
    "\n",
    "\n",
    "    "
   ]
  },
  {
   "cell_type": "code",
   "execution_count": null,
   "metadata": {
    "collapsed": true
   },
   "outputs": [],
   "source": []
  },
  {
   "cell_type": "code",
   "execution_count": null,
   "metadata": {
    "collapsed": true
   },
   "outputs": [],
   "source": []
  },
  {
   "cell_type": "code",
   "execution_count": null,
   "metadata": {
    "collapsed": true
   },
   "outputs": [],
   "source": []
  }
 ],
 "metadata": {
  "kernelspec": {
   "display_name": "Python 2",
   "language": "python",
   "name": "python2"
  },
  "language_info": {
   "codemirror_mode": {
    "name": "ipython",
    "version": 2
   },
   "file_extension": ".py",
   "mimetype": "text/x-python",
   "name": "python",
   "nbconvert_exporter": "python",
   "pygments_lexer": "ipython2",
   "version": "2.7.10"
  }
 },
 "nbformat": 4,
 "nbformat_minor": 2
}
